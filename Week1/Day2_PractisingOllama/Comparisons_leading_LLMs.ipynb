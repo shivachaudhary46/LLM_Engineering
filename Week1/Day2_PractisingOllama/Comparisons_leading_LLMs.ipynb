{
 "cells": [
  {
   "cell_type": "markdown",
   "id": "6fd6e0b5",
   "metadata": {},
   "source": [
    "# Leading LLM Models \n",
    "### 1. GPT-4 (OpenAI)\n",
    "- It can handle not only text but images inputs. It also supports multimodal means while generating text not only input text. It has its own reasoning. \n",
    "\n",
    "- Different versions of GPT-4 has different context window limits. some have 8192 tokens other have 32768 tokens.\n",
    "\n",
    "- Context window limit means the maximum amount of information that the model can remember and use to generate responses in a a single conversation. It includes all prior messages (questions and model's past answers). It includes current questions. It also include model upcomming response. \n",
    "\n",
    "- It give response on its own reasoning and has high performance. for example on MMLU (Massive Multitask Language Understanding) \n",
    "\n",
    "- But sometime generate hallucinate and incorrect statements.\n",
    "\n",
    "- Application: customer support bots, code assistants, creative writing, data analysis. for example: bank might use this model because it may be accurate. \n",
    "\n",
    "### 2. GPT O1 \n",
    "- It gives structured thinking, write out steps internally. \n",
    "\n",
    "- It can be slower, but it is more accurate for math and logic building.\n",
    "\n",
    "- Example: this model is very much accurate in Olympiad-style math problems. \n",
    "\n",
    "### 3. Claude (Anthropic)\n",
    "\n",
    "- It is always safe, and has long context windows (100k+ tokens). \n",
    "\n",
    "- The applications are documment summarization, legal/finance. \n",
    "\n",
    "- It follows structure, rules, avoid bias. It is more cautious than GPT-4. \n",
    "\n",
    "- Claude can generate outputs like (text, chart, tables, JSON)\n",
    "\n",
    "- It does not hallucinate.\n",
    "\n",
    "### 4. Perplexity AI \n",
    "\n",
    "- It is more fact based so it wil be more useful if we use it for research, journalism. \n",
    "\n",
    "- it always give you cites source of the research you have done. \n",
    "\n",
    "### 5. Gemini (Google)\n",
    "\n",
    "- better for creating multimodal outputs (drawing, stories, video+text)\n",
    "\n",
    "- for example: it can be used for generating educational Youtube videos scripts.\n",
    "\n",
    "### 6. META AI (LLaMA):\n",
    "\n",
    "- This is an Open-source and it outputs vary because you can fine-tune.\n",
    "\n",
    "- This LLm can  be used for experimentation but quality depends on training.\n"
   ]
  },
  {
   "cell_type": "code",
   "execution_count": null,
   "id": "91030b73",
   "metadata": {},
   "outputs": [],
   "source": []
  }
 ],
 "metadata": {
  "language_info": {
   "name": "python"
  }
 },
 "nbformat": 4,
 "nbformat_minor": 5
}
