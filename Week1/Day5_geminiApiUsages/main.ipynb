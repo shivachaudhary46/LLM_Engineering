{
 "cells": [
  {
   "cell_type": "code",
   "execution_count": 1,
   "id": "3451e034",
   "metadata": {},
   "outputs": [],
   "source": [
    "from dotenv import load_dotenv\n",
    "from IPython.display import update_display, display, Markdown\n",
    "from bs4 import BeautifulSoup\n",
    "import os\n",
    "import shutil \n",
    "from google import genai\n",
    "import ollama \n",
    "import requests\n",
    "import json\n",
    "from google.genai import  types"
   ]
  },
  {
   "cell_type": "code",
   "execution_count": 2,
   "id": "29b9bc97",
   "metadata": {},
   "outputs": [
    {
     "name": "stdout",
     "output_type": "stream",
     "text": [
      "API key found and looks good so far!\n",
      "\n"
     ]
    }
   ],
   "source": [
    "load_dotenv(override=True)\n",
    "api_key = os.getenv(\"GOOGLE_API_KEY\")\n",
    "\n",
    "if not api_key:\n",
    "    print(\"No API key was found - please head over to the troubleshooting notebook\")\n",
    "elif api_key.strip() != api_key:\n",
    "    print(\"API key was found but it looks like it might have space or tab. please remove them. \")\n",
    "elif not api_key.startswith('AIza'):\n",
    "    print(\"API key was found but make sure to use valid api key from GOOGLE AI STUDIO\")\n",
    "else:\n",
    "    print(\"API key found and looks good so far!\")\n",
    "    print()"
   ]
  },
  {
   "cell_type": "code",
   "execution_count": 3,
   "id": "e31ae592",
   "metadata": {},
   "outputs": [
    {
     "name": "stdout",
     "output_type": "stream",
     "text": [
      "Google GenAI Client initialised successfully\n"
     ]
    }
   ],
   "source": [
    "\n",
    "try:\n",
    "    client = genai.Client(api_key=api_key)\n",
    "    print(\"Google GenAI Client initialised successfully\")\n",
    "except Exception as e:\n",
    "    print(f\"Error initialising GenAI Client: {e}\")\n",
    "    print(\"Ensure your GOOGLE_API_KEY is correctly set as environment variables\")\n"
   ]
  },
  {
   "cell_type": "code",
   "execution_count": 4,
   "id": "029866f8",
   "metadata": {},
   "outputs": [],
   "source": [
    "model_name = \"gemini-2.5-flash\""
   ]
  },
  {
   "cell_type": "code",
   "execution_count": 5,
   "id": "f0855a6d",
   "metadata": {},
   "outputs": [
    {
     "name": "stdout",
     "output_type": "stream",
     "text": [
      "List of available model in gemini: \n",
      "\n",
      "models/gemini-1.5-pro-latest\n",
      "models/gemini-1.5-pro-002\n",
      "models/gemini-1.5-pro\n",
      "models/gemini-1.5-flash-latest\n",
      "models/gemini-1.5-flash\n",
      "models/gemini-1.5-flash-002\n",
      "models/gemini-1.5-flash-8b\n",
      "models/gemini-1.5-flash-8b-001\n",
      "models/gemini-1.5-flash-8b-latest\n",
      "models/gemini-2.5-pro-preview-03-25\n",
      "models/gemini-2.5-flash-preview-05-20\n",
      "models/gemini-2.5-flash\n",
      "models/gemini-2.5-flash-lite-preview-06-17\n",
      "models/gemini-2.5-pro-preview-05-06\n",
      "models/gemini-2.5-pro-preview-06-05\n",
      "models/gemini-2.5-pro\n",
      "models/gemini-2.0-flash-exp\n",
      "models/gemini-2.0-flash\n",
      "models/gemini-2.0-flash-001\n",
      "models/gemini-2.0-flash-exp-image-generation\n",
      "models/gemini-2.0-flash-lite-001\n",
      "models/gemini-2.0-flash-lite\n",
      "models/gemini-2.0-flash-preview-image-generation\n",
      "models/gemini-2.0-flash-lite-preview-02-05\n",
      "models/gemini-2.0-flash-lite-preview\n",
      "models/gemini-2.0-pro-exp\n",
      "models/gemini-2.0-pro-exp-02-05\n",
      "models/gemini-exp-1206\n",
      "models/gemini-2.0-flash-thinking-exp-01-21\n",
      "models/gemini-2.0-flash-thinking-exp\n",
      "models/gemini-2.0-flash-thinking-exp-1219\n",
      "models/gemini-2.5-flash-preview-tts\n",
      "models/gemini-2.5-pro-preview-tts\n",
      "models/learnlm-2.0-flash-experimental\n",
      "models/gemma-3-1b-it\n",
      "models/gemma-3-4b-it\n",
      "models/gemma-3-12b-it\n",
      "models/gemma-3-27b-it\n",
      "models/gemma-3n-e4b-it\n",
      "models/gemma-3n-e2b-it\n",
      "models/gemini-2.5-flash-lite\n",
      "models/gemini-2.5-flash-image-preview\n"
     ]
    }
   ],
   "source": [
    "# Get list of models\n",
    "print(\"List of available model in gemini: \\n\")\n",
    "for model in client.models.list():\n",
    "    for action in model.supported_actions:\n",
    "        if action == \"generateContent\":\n",
    "            if action == \"generateContent\":\n",
    "                print(model.name)"
   ]
  },
  {
   "cell_type": "code",
   "execution_count": 6,
   "id": "e9514344",
   "metadata": {},
   "outputs": [],
   "source": [
    "system_prompt = (\n",
    "    \"\"\"You are a futuristic fashion designer and digital stylist. Your task \n",
    "    is to generate highly realistic, photo-quality images of models wearing \n",
    "    outfits based on user-provided photos. Your output should mimic Pinterest \n",
    "    and Instagram fashion photography, emphasizing natural poses, accurate fabric \n",
    "    textures, trendy styles, and well-lit, visually appealing compositions.\"\"\"\n",
    ")\n",
    "\n",
    "generate_content_config = types.GenerateContentConfig(system_instruction=system_prompt)"
   ]
  },
  {
   "cell_type": "code",
   "execution_count": 7,
   "id": "4f552bc0",
   "metadata": {},
   "outputs": [],
   "source": [
    "image_dress_path = \"Mehendi_Green_Embroidered_Gharara.webp\"\n",
    "image_model_path = \"GettyImages-1189861065.webp\""
   ]
  },
  {
   "cell_type": "code",
   "execution_count": 15,
   "id": "fba69b47",
   "metadata": {},
   "outputs": [],
   "source": [
    "from google.genai import types"
   ]
  },
  {
   "cell_type": "code",
   "execution_count": 17,
   "id": "be2c93fb",
   "metadata": {},
   "outputs": [],
   "source": [
    "image_model_path = \"https://upload.wikimedia.org/wikipedia/commons/thumb/b/b1/Taylor_Swift_at_the_2023_MTV_Video_Music_Awards_%283%29.png/500px-Taylor_Swift_at_the_2023_MTV_Video_Music_Awards_%283%29.png\"\n",
    "image_bytes = requests.get(image_model_path).content\n",
    "image_model = types.Part.from_bytes(\n",
    "    data=image_bytes, mime_type=\"image/jpeg\"\n",
    ")\n",
    "\n",
    "\n",
    "image_dress_path = \"https://upload.wikimedia.org/wikipedia/commons/3/34/Shriya_Saran_bridal_week_2010.png?20101205111538\"\n",
    "image_bytes = requests.get(image_dress_path).content\n",
    "image_model = types.Part.from_bytes(\n",
    "    data=image_bytes, mime_type=\"image/jpeg\"\n",
    ")"
   ]
  },
  {
   "cell_type": "code",
   "execution_count": 10,
   "id": "10f98d22",
   "metadata": {},
   "outputs": [],
   "source": [
    "image_model = Image.open(image_model_path)\n",
    "image_dress = Image.open(image_dress_path)"
   ]
  },
  {
   "cell_type": "code",
   "execution_count": 9,
   "id": "f9cf0290",
   "metadata": {},
   "outputs": [],
   "source": [
    "from PIL import Image\n",
    "from io import BytesIO"
   ]
  },
  {
   "cell_type": "code",
   "execution_count": 11,
   "id": "fab290a5",
   "metadata": {},
   "outputs": [],
   "source": [
    "user_prompt = (\n",
    "    \"... Pose like a Pinterest editorial model with natural hand placement. Use soft natural lighting and cinematic color grading to make the image look trendy and Instagram-ready.\"\n",
    "    \"Generate an image of the model wearing the given dress. \"\n",
    "    \"The image should be high-resolution and resemble a professional \"\n",
    "    \"fashion photoshoot seen on Pinterest or Instagram. Focus on realistic \"\n",
    "    \"fabric draping, natural lighting, flattering pose, and modern fashion aesthetics. \"\n",
    "    \"Background can be minimalistic or blurred to emphasize the model and outfit.\"\n",
    ")"
   ]
  },
  {
   "cell_type": "code",
   "execution_count": 18,
   "id": "4ab387d1",
   "metadata": {},
   "outputs": [],
   "source": [
    "prompt = (\n",
    "    system_prompt, \n",
    "    user_prompt\n",
    ")"
   ]
  },
  {
   "cell_type": "code",
   "execution_count": null,
   "id": "a0a775f3",
   "metadata": {},
   "outputs": [
    {
     "name": "stdout",
     "output_type": "stream",
     "text": [
      "None\n"
     ]
    }
   ],
   "source": [
    "from google import genai\n",
    "from google.genai import types\n",
    "\n",
    "client = genai.Client()\n",
    "\n",
    "# Upload the first image \n",
    "image1_path = \"lehenga.jpg\"\n",
    "uploaded_file = client.files.upload(file=image1_path)\n",
    "\n",
    "# prepare the second image as inline data \n",
    "with open(\"taylor_swift.jpg\", \"rb\") as f:\n",
    "    image_model_bytes = f.read()\n",
    "\n",
    "# creating the prompt with text and multiple images\n",
    "response = client.models.generate_content(\n",
    "\n",
    "    model=\"gemini-2.5-flash-exp\", \n",
    "    contents = [\n",
    "        \"\"\"... Pose like a Pinterest editorial model with natural hand placement. Use soft natural lighting and cinematic color grading to make the image look trendy and Instagram-ready.\n",
    "            `Generate an image of the model wearing the given uploaded dress. \n",
    "            The image should be high-resolution and resemble a professional \n",
    "            fashion photoshoot seen on Pinterest or Instagram. Focus on realistic \n",
    "            fabric draping, natural lighting, flattering pose, and modern fashion aesthetics. \n",
    "            Background can be `mi`nimalistic or blurred to emphasize the model and outfit.\"\"\",\n",
    "            uploaded_file,\n",
    "            types.Part.from_bytes(\n",
    "                data=image_model_bytes,\n",
    "                mime_type=\"image/png\"\n",
    "            )\n",
    "    ]\n",
    ")\n",
    "\n",
    "print(response.text)"
   ]
  }
 ],
 "metadata": {
  "kernelspec": {
   "display_name": "llms",
   "language": "python",
   "name": "python3"
  },
  "language_info": {
   "codemirror_mode": {
    "name": "ipython",
    "version": 3
   },
   "file_extension": ".py",
   "mimetype": "text/x-python",
   "name": "python",
   "nbconvert_exporter": "python",
   "pygments_lexer": "ipython3",
   "version": "3.11.13"
  }
 },
 "nbformat": 4,
 "nbformat_minor": 5
}
